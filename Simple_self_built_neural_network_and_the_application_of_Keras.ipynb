{
  "nbformat": 4,
  "nbformat_minor": 0,
  "metadata": {
    "colab": {
      "name": "Simple self-built neural network and the application of Keras.ipynb",
      "provenance": [],
      "collapsed_sections": [],
      "include_colab_link": true
    },
    "kernelspec": {
      "display_name": "Python 3",
      "language": "python",
      "name": "python3"
    },
    "language_info": {
      "codemirror_mode": {
        "name": "ipython",
        "version": 3
      },
      "file_extension": ".py",
      "mimetype": "text/x-python",
      "name": "python",
      "nbconvert_exporter": "python",
      "pygments_lexer": "ipython3",
      "version": "3.8.3"
    }
  },
  "cells": [
    {
      "cell_type": "markdown",
      "metadata": {
        "id": "view-in-github",
        "colab_type": "text"
      },
      "source": [
        "<a href=\"https://colab.research.google.com/github/xydeep21/Deep-Learning-Data-Mining-model/blob/main/Simple_self_built_neural_network_and_the_application_of_Keras.ipynb\" target=\"_parent\"><img src=\"https://colab.research.google.com/assets/colab-badge.svg\" alt=\"Open In Colab\"/></a>"
      ]
    },
    {
      "cell_type": "markdown",
      "metadata": {
        "id": "EpyTIP3Qk0R1"
      },
      "source": [
        "# Forecasting the Demand of Purchasing during the Christmas Vacation \n",
        "# Using simple neural network"
      ]
    },
    {
      "cell_type": "markdown",
      "metadata": {
        "id": "QiKywKk5k0R2"
      },
      "source": [
        "## Business Objectives : Demand Forecasting\n",
        "\n",
        "This case study aims to identify the demand of purchasing during the Christmas vacation. The cookie store can use the prediction result to send coupons to those customers with lower desire to purchase and thus improve the sale during the Christmas Vacation. It can also be used to foresee how many cookies are needed in the coming Christmas Vacation and therefore help the store better prepare for the busy season."
      ]
    },
    {
      "cell_type": "code",
      "metadata": {
        "id": "d7gZYiA5SFjl",
        "outputId": "8da3f445-4d4b-4213-e26c-01b158a9d72f",
        "colab": {
          "base_uri": "https://localhost:8080/"
        }
      },
      "source": [
        "#Mount with Google Drive\n",
        "from google.colab import drive\n",
        "drive.mount('/content/drive')"
      ],
      "execution_count": 24,
      "outputs": [
        {
          "output_type": "stream",
          "text": [
            "Drive already mounted at /content/drive; to attempt to forcibly remount, call drive.mount(\"/content/drive\", force_remount=True).\n"
          ],
          "name": "stdout"
        }
      ]
    },
    {
      "cell_type": "markdown",
      "metadata": {
        "id": "_oVut3QaQcLT"
      },
      "source": [
        "# **1.Explore the dataset and select features** "
      ]
    },
    {
      "cell_type": "code",
      "metadata": {
        "id": "fUGyx7bzk0R4"
      },
      "source": [
        "import numpy as np\n",
        "import pandas as pd \n",
        "\n",
        "#import the data as a pandas dataframe\n",
        "cookie_data = pd.read_excel(\"/content/drive/My Drive/All Practice Files Lab-1/Data/cookie_business.xlsx\", sheet_name=\"Sheet1\")"
      ],
      "execution_count": 25,
      "outputs": []
    },
    {
      "cell_type": "code",
      "metadata": {
        "id": "e5PBOVUJShHA",
        "outputId": "7abb53fd-5c01-43bf-c30f-e5375a8492cc",
        "colab": {
          "base_uri": "https://localhost:8080/"
        }
      },
      "source": [
        "cookie_data.columns"
      ],
      "execution_count": 26,
      "outputs": [
        {
          "output_type": "execute_result",
          "data": {
            "text/plain": [
              "Index(['Age', 'Postcode', 'Gender', 'Favourite Cookie',\n",
              "       'Cookies bought frequency during Chrismas vaccations in the last 5 years'],\n",
              "      dtype='object')"
            ]
          },
          "metadata": {
            "tags": []
          },
          "execution_count": 26
        }
      ]
    },
    {
      "cell_type": "code",
      "metadata": {
        "id": "nIBMjf_wk0R8",
        "outputId": "7a7e2408-9d76-49c4-e34c-843fc59a751f",
        "colab": {
          "base_uri": "https://localhost:8080/",
          "height": 195
        }
      },
      "source": [
        "#View the head of the data\n",
        "cookie_data.head()"
      ],
      "execution_count": 27,
      "outputs": [
        {
          "output_type": "execute_result",
          "data": {
            "text/html": [
              "<div>\n",
              "<style scoped>\n",
              "    .dataframe tbody tr th:only-of-type {\n",
              "        vertical-align: middle;\n",
              "    }\n",
              "\n",
              "    .dataframe tbody tr th {\n",
              "        vertical-align: top;\n",
              "    }\n",
              "\n",
              "    .dataframe thead th {\n",
              "        text-align: right;\n",
              "    }\n",
              "</style>\n",
              "<table border=\"1\" class=\"dataframe\">\n",
              "  <thead>\n",
              "    <tr style=\"text-align: right;\">\n",
              "      <th></th>\n",
              "      <th>Age</th>\n",
              "      <th>Postcode</th>\n",
              "      <th>Gender</th>\n",
              "      <th>Favourite Cookie</th>\n",
              "      <th>Cookies bought frequency during Chrismas vaccations in the last 5 years</th>\n",
              "    </tr>\n",
              "  </thead>\n",
              "  <tbody>\n",
              "    <tr>\n",
              "      <th>0</th>\n",
              "      <td>22</td>\n",
              "      <td>2010</td>\n",
              "      <td>0</td>\n",
              "      <td>1</td>\n",
              "      <td>0.08</td>\n",
              "    </tr>\n",
              "    <tr>\n",
              "      <th>1</th>\n",
              "      <td>30</td>\n",
              "      <td>2010</td>\n",
              "      <td>0</td>\n",
              "      <td>1</td>\n",
              "      <td>0.24</td>\n",
              "    </tr>\n",
              "    <tr>\n",
              "      <th>2</th>\n",
              "      <td>60</td>\n",
              "      <td>2000</td>\n",
              "      <td>1</td>\n",
              "      <td>1</td>\n",
              "      <td>0.04</td>\n",
              "    </tr>\n",
              "    <tr>\n",
              "      <th>3</th>\n",
              "      <td>53</td>\n",
              "      <td>2010</td>\n",
              "      <td>1</td>\n",
              "      <td>1</td>\n",
              "      <td>0.04</td>\n",
              "    </tr>\n",
              "    <tr>\n",
              "      <th>4</th>\n",
              "      <td>37</td>\n",
              "      <td>2000</td>\n",
              "      <td>0</td>\n",
              "      <td>1</td>\n",
              "      <td>0.08</td>\n",
              "    </tr>\n",
              "  </tbody>\n",
              "</table>\n",
              "</div>"
            ],
            "text/plain": [
              "   Age  ...  Cookies bought frequency during Chrismas vaccations in the last 5 years\n",
              "0   22  ...                                                                     0.08\n",
              "1   30  ...                                                                     0.24\n",
              "2   60  ...                                                                     0.04\n",
              "3   53  ...                                                                     0.04\n",
              "4   37  ...                                                                     0.08\n",
              "\n",
              "[5 rows x 5 columns]"
            ]
          },
          "metadata": {
            "tags": []
          },
          "execution_count": 27
        }
      ]
    },
    {
      "cell_type": "code",
      "metadata": {
        "id": "3_kEW95by_Go",
        "outputId": "e709dfe1-3ba6-49e2-c8d7-4ad1a47f7aa9",
        "colab": {
          "base_uri": "https://localhost:8080/",
          "height": 195
        }
      },
      "source": [
        "cookie_data=cookie_data.drop(\"Postcode\",axis=1)\n",
        "cookie_data=cookie_data.drop(\"Favourite Cookie\",axis=1)\n",
        "cookie_data[\"Age\"]/=100\n",
        "cookie_data.head()"
      ],
      "execution_count": 28,
      "outputs": [
        {
          "output_type": "execute_result",
          "data": {
            "text/html": [
              "<div>\n",
              "<style scoped>\n",
              "    .dataframe tbody tr th:only-of-type {\n",
              "        vertical-align: middle;\n",
              "    }\n",
              "\n",
              "    .dataframe tbody tr th {\n",
              "        vertical-align: top;\n",
              "    }\n",
              "\n",
              "    .dataframe thead th {\n",
              "        text-align: right;\n",
              "    }\n",
              "</style>\n",
              "<table border=\"1\" class=\"dataframe\">\n",
              "  <thead>\n",
              "    <tr style=\"text-align: right;\">\n",
              "      <th></th>\n",
              "      <th>Age</th>\n",
              "      <th>Gender</th>\n",
              "      <th>Cookies bought frequency during Chrismas vaccations in the last 5 years</th>\n",
              "    </tr>\n",
              "  </thead>\n",
              "  <tbody>\n",
              "    <tr>\n",
              "      <th>0</th>\n",
              "      <td>0.22</td>\n",
              "      <td>0</td>\n",
              "      <td>0.08</td>\n",
              "    </tr>\n",
              "    <tr>\n",
              "      <th>1</th>\n",
              "      <td>0.30</td>\n",
              "      <td>0</td>\n",
              "      <td>0.24</td>\n",
              "    </tr>\n",
              "    <tr>\n",
              "      <th>2</th>\n",
              "      <td>0.60</td>\n",
              "      <td>1</td>\n",
              "      <td>0.04</td>\n",
              "    </tr>\n",
              "    <tr>\n",
              "      <th>3</th>\n",
              "      <td>0.53</td>\n",
              "      <td>1</td>\n",
              "      <td>0.04</td>\n",
              "    </tr>\n",
              "    <tr>\n",
              "      <th>4</th>\n",
              "      <td>0.37</td>\n",
              "      <td>0</td>\n",
              "      <td>0.08</td>\n",
              "    </tr>\n",
              "  </tbody>\n",
              "</table>\n",
              "</div>"
            ],
            "text/plain": [
              "    Age  ...  Cookies bought frequency during Chrismas vaccations in the last 5 years\n",
              "0  0.22  ...                                                                     0.08\n",
              "1  0.30  ...                                                                     0.24\n",
              "2  0.60  ...                                                                     0.04\n",
              "3  0.53  ...                                                                     0.04\n",
              "4  0.37  ...                                                                     0.08\n",
              "\n",
              "[5 rows x 3 columns]"
            ]
          },
          "metadata": {
            "tags": []
          },
          "execution_count": 28
        }
      ]
    },
    {
      "cell_type": "code",
      "metadata": {
        "id": "aj80zFgtk0R_",
        "outputId": "f351e926-0a38-438e-a305-88f12edf801f",
        "colab": {
          "base_uri": "https://localhost:8080/"
        }
      },
      "source": [
        "#What's the demension of the data\n",
        "cookie_data.shape"
      ],
      "execution_count": 29,
      "outputs": [
        {
          "output_type": "execute_result",
          "data": {
            "text/plain": [
              "(46, 3)"
            ]
          },
          "metadata": {
            "tags": []
          },
          "execution_count": 29
        }
      ]
    },
    {
      "cell_type": "code",
      "metadata": {
        "id": "OOU7p7MxShHP",
        "outputId": "3e110c45-db74-43c0-b651-c983d16ee031",
        "colab": {
          "base_uri": "https://localhost:8080/",
          "height": 225
        }
      },
      "source": [
        "#Column Description is shown below\n",
        "pd.set_option('max_colwidth', 100)\n",
        "pd.read_csv('/content/drive/My Drive/All Practice Files Lab-1/Data/Cookies Column Description.csv', sep = ';', index_col = 0)"
      ],
      "execution_count": 30,
      "outputs": [
        {
          "output_type": "execute_result",
          "data": {
            "text/html": [
              "<div>\n",
              "<style scoped>\n",
              "    .dataframe tbody tr th:only-of-type {\n",
              "        vertical-align: middle;\n",
              "    }\n",
              "\n",
              "    .dataframe tbody tr th {\n",
              "        vertical-align: top;\n",
              "    }\n",
              "\n",
              "    .dataframe thead th {\n",
              "        text-align: right;\n",
              "    }\n",
              "</style>\n",
              "<table border=\"1\" class=\"dataframe\">\n",
              "  <thead>\n",
              "    <tr style=\"text-align: right;\">\n",
              "      <th></th>\n",
              "      <th>Description</th>\n",
              "    </tr>\n",
              "    <tr>\n",
              "      <th>Column Name</th>\n",
              "      <th></th>\n",
              "    </tr>\n",
              "  </thead>\n",
              "  <tbody>\n",
              "    <tr>\n",
              "      <th>Age</th>\n",
              "      <td>Customer Age</td>\n",
              "    </tr>\n",
              "    <tr>\n",
              "      <th>Postcode</th>\n",
              "      <td>Customer Postcode</td>\n",
              "    </tr>\n",
              "    <tr>\n",
              "      <th>Gender</th>\n",
              "      <td>(0,1) 1 for Female</td>\n",
              "    </tr>\n",
              "    <tr>\n",
              "      <th>Favorite Cookie</th>\n",
              "      <td>Favorite Cookie Type</td>\n",
              "    </tr>\n",
              "    <tr>\n",
              "      <th>Cookies Purchase Frequency</th>\n",
              "      <td>Cookies purchase frequency during Christmas vacations in the last 5 years</td>\n",
              "    </tr>\n",
              "  </tbody>\n",
              "</table>\n",
              "</div>"
            ],
            "text/plain": [
              "                                                                                           Description\n",
              "Column Name                                                                                           \n",
              "Age                                                                                       Customer Age\n",
              "Postcode                                                                             Customer Postcode\n",
              "Gender                                                                              (0,1) 1 for Female\n",
              "Favorite Cookie                                                                   Favorite Cookie Type\n",
              "Cookies Purchase Frequency   Cookies purchase frequency during Christmas vacations in the last 5 years"
            ]
          },
          "metadata": {
            "tags": []
          },
          "execution_count": 30
        }
      ]
    },
    {
      "cell_type": "markdown",
      "metadata": {
        "id": "N9D_F0JVQj0W"
      },
      "source": [
        "# **2.Plese design a self-built neural network model** </font>"
      ]
    },
    {
      "cell_type": "code",
      "metadata": {
        "id": "RxIoIpT7k0SC",
        "outputId": "26c2824d-e2d1-4f35-91ee-3e022734df1e",
        "colab": {
          "base_uri": "https://localhost:8080/",
          "height": 195
        }
      },
      "source": [
        "#Split the data into training(80%) and testing(20%) sets\n",
        "all_index = np.array(cookie_data.index)\n",
        "train_index = np.random.choice(all_index,size=int(46*0.8),replace= False)\n",
        "test_index = np.setdiff1d(all_index,train_index)\n",
        "train_data = cookie_data.loc[train_index,]\n",
        "test_data = cookie_data.loc[test_index,]\n",
        "test_data.head()"
      ],
      "execution_count": 31,
      "outputs": [
        {
          "output_type": "execute_result",
          "data": {
            "text/html": [
              "<div>\n",
              "<style scoped>\n",
              "    .dataframe tbody tr th:only-of-type {\n",
              "        vertical-align: middle;\n",
              "    }\n",
              "\n",
              "    .dataframe tbody tr th {\n",
              "        vertical-align: top;\n",
              "    }\n",
              "\n",
              "    .dataframe thead th {\n",
              "        text-align: right;\n",
              "    }\n",
              "</style>\n",
              "<table border=\"1\" class=\"dataframe\">\n",
              "  <thead>\n",
              "    <tr style=\"text-align: right;\">\n",
              "      <th></th>\n",
              "      <th>Age</th>\n",
              "      <th>Gender</th>\n",
              "      <th>Cookies bought frequency during Chrismas vaccations in the last 5 years</th>\n",
              "    </tr>\n",
              "  </thead>\n",
              "  <tbody>\n",
              "    <tr>\n",
              "      <th>4</th>\n",
              "      <td>0.37</td>\n",
              "      <td>0</td>\n",
              "      <td>0.08</td>\n",
              "    </tr>\n",
              "    <tr>\n",
              "      <th>12</th>\n",
              "      <td>0.42</td>\n",
              "      <td>0</td>\n",
              "      <td>0.04</td>\n",
              "    </tr>\n",
              "    <tr>\n",
              "      <th>17</th>\n",
              "      <td>0.21</td>\n",
              "      <td>1</td>\n",
              "      <td>0.04</td>\n",
              "    </tr>\n",
              "    <tr>\n",
              "      <th>26</th>\n",
              "      <td>0.29</td>\n",
              "      <td>0</td>\n",
              "      <td>0.12</td>\n",
              "    </tr>\n",
              "    <tr>\n",
              "      <th>29</th>\n",
              "      <td>0.29</td>\n",
              "      <td>1</td>\n",
              "      <td>0.12</td>\n",
              "    </tr>\n",
              "  </tbody>\n",
              "</table>\n",
              "</div>"
            ],
            "text/plain": [
              "     Age  ...  Cookies bought frequency during Chrismas vaccations in the last 5 years\n",
              "4   0.37  ...                                                                     0.08\n",
              "12  0.42  ...                                                                     0.04\n",
              "17  0.21  ...                                                                     0.04\n",
              "26  0.29  ...                                                                     0.12\n",
              "29  0.29  ...                                                                     0.12\n",
              "\n",
              "[5 rows x 3 columns]"
            ]
          },
          "metadata": {
            "tags": []
          },
          "execution_count": 31
        }
      ]
    },
    {
      "cell_type": "code",
      "metadata": {
        "id": "inccYtgGk0SF",
        "outputId": "50b30d80-27f1-423c-debe-9ebbe0618fee",
        "colab": {
          "base_uri": "https://localhost:8080/"
        }
      },
      "source": [
        "#Design a three layer neural network by using prelu method\n",
        "#Thie neural networkd uses prelu method and have 2 hidden layers with 5 nodes in hidden layer1 and 1 nodes in hidden layer2\n",
        "def my_net(train_data,test_data):\n",
        "    def prelu(x,deriv=False):\n",
        "        if(deriv==True):\n",
        "            return (x>0)+(x<=0)*0.01\n",
        "        return np.multiply((x>0),x) + np.multiply((x<=0)*0.01,x)\n",
        "\n",
        "    X =  train_data.iloc[:,0:2].values  \n",
        "    y = train_data.iloc[:,2].values\n",
        "    y = np.reshape(y,(train_data.shape[0],1))\n",
        "    w0 = 2*np.random.random((2,5))-1\n",
        "    w1 = 2*np.random.random((5,1))-1\n",
        "    for j in range(100):\n",
        "        a0 = X\n",
        "        a1 = prelu(np.dot(a0,w0))\n",
        "        a2 = prelu(np.dot(a1,w1))\n",
        "        a2_error = y - a2\n",
        "        a2_delta = a2_error *prelu(a2,deriv=True)\n",
        "        a1_error = a2_delta.dot(w1.T)\n",
        "        a1_delta = a1_error * prelu(a1,deriv= True)\n",
        "        w1 += a1.T.dot(a2_delta)\n",
        "        w0 += a0.T.dot(a1_delta)\n",
        "    \n",
        "    print(\"Training MSE: \",((a2-y)**2).sum()/len(a2))\n",
        "    X = train_data.iloc[:,0:2].values            \n",
        "    y = train_data.iloc[:,2].values\n",
        "    a0 = X\n",
        "    a1 = prelu(np.dot(a0,w0))\n",
        "    a2 = prelu(np.dot(a1,w1))\n",
        "    a2_error = y - a2\n",
        "    \n",
        "    return(np.mean(a2_error**2))\n",
        "    #return(np.mean(abs(a2_error)))\n",
        "\n",
        "my_score = my_net(train_data,test_data)\n",
        "print('Test MSE: ' + str(my_score))"
      ],
      "execution_count": 35,
      "outputs": [
        {
          "output_type": "stream",
          "text": [
            "Training MSE:  0.03592091799515932\n",
            "Test MSE: 0.03313789909880962\n"
          ],
          "name": "stdout"
        }
      ]
    },
    {
      "cell_type": "markdown",
      "metadata": {
        "id": "LNKEjB2qQx-6"
      },
      "source": [
        "# **3.Plese build a neural network model using Keras** </font>\n",
        "\n",
        "\n"
      ]
    },
    {
      "cell_type": "code",
      "metadata": {
        "id": "b-XY_4K2k0SJ",
        "outputId": "ab57e71f-24d6-44b1-e458-ac049dd6b80c",
        "colab": {
          "base_uri": "https://localhost:8080/"
        }
      },
      "source": [
        "from keras import models\n",
        "from keras import layers\n",
        "# The network architecture\n",
        "# This nerual network has the same structure as the self-built neural network\n",
        "\n",
        "def keras_net(train_data, test_data):\n",
        "    network = models.Sequential()\n",
        "    network.add(layers.Dense(5, activation='sigmoid', input_shape=(2,)))\n",
        "    network.add(layers.Dense(1, activation='softmax'))\n",
        "    # The compilation step\n",
        "    network.compile(optimizer='SGD',loss = 'binary_crossentropy',metrics=['accuracy']) \n",
        "    # Fit the model\n",
        "    train_info = train_data.iloc[:,0:2].values            \n",
        "    train_labels = train_data.iloc[:,2].values\n",
        "    history=network.fit(train_info, train_labels, epochs=100, verbose=0)\n",
        "    print(\"Minimum Training mse: \",min(history.history[\"loss\"]))\n",
        "    # Get the accuracy rate\n",
        "    test_info = test_data.iloc[:,0:2].values            \n",
        "    test_labels = test_data.iloc[:,2].values\n",
        "    #test_loss, test_mse = network.evaluate(test_info, test_labels)\n",
        "    pred=network.predict(test_info)\n",
        "    test_mse=np.mean((pred-test_labels)**2)\n",
        "    return(test_mse)\n",
        "\n",
        "keras_score = keras_net(train_data,test_data)\n",
        "print('Keras Score: ' + str(keras_score))"
      ],
      "execution_count": 34,
      "outputs": [
        {
          "output_type": "stream",
          "text": [
            "Minimum Training mse:  12.504374504089355\n",
            "WARNING:tensorflow:11 out of the last 11 calls to <function Model.make_predict_function.<locals>.predict_function at 0x7f07ead01f28> triggered tf.function retracing. Tracing is expensive and the excessive number of tracings could be due to (1) creating @tf.function repeatedly in a loop, (2) passing tensors with different shapes, (3) passing Python objects instead of tensors. For (1), please define your @tf.function outside of the loop. For (2), @tf.function has experimental_relax_shapes=True option that relaxes argument shapes that can avoid unnecessary retracing. For (3), please refer to https://www.tensorflow.org/tutorials/customization/performance#python_or_tensor_args and https://www.tensorflow.org/api_docs/python/tf/function for  more details.\n",
            "Keras Score: 0.8126399999999999\n"
          ],
          "name": "stdout"
        }
      ]
    },
    {
      "cell_type": "markdown",
      "metadata": {
        "id": "8uLnFRPTk0SN"
      },
      "source": [
        "### **4.Compare the two neural networks using K-fold validation**"
      ]
    },
    {
      "cell_type": "code",
      "metadata": {
        "id": "UmdZk0AVk0SN",
        "outputId": "2c55224b-33b3-4008-e100-9698ddb943a3",
        "colab": {
          "base_uri": "https://localhost:8080/"
        }
      },
      "source": [
        "#Split data into 3 folds\n",
        "all_index = np.array(cookie_data.index)\n",
        "all_index = np.random.choice(all_index,size=46,replace=False)\n",
        "fold1_index = all_index[0:15]\n",
        "fold2_index = all_index[15:30]\n",
        "fold3_index = all_index[30:46]\n",
        "fold1_data = cookie_data.loc[fold1_index,]\n",
        "fold2_data = cookie_data.loc[fold2_index,]\n",
        "fold3_data = cookie_data.loc[fold3_index,]\n",
        "\n",
        "#Get the average validation score of the nerual network.\n",
        "train_data1 = cookie_data.loc[np.union1d(fold1_index,fold2_index),]\n",
        "test_data1 = fold3_data\n",
        "score1 = my_net(train_data1,test_data1)\n",
        "\n",
        "train_data2 = cookie_data.loc[np.union1d(fold1_index,fold3_index),]\n",
        "test_data2 = fold2_data\n",
        "score2 = my_net(train_data2,test_data2)\n",
        "\n",
        "train_data3 = cookie_data.loc[np.union1d(fold2_index,fold3_index),]\n",
        "test_data3 = fold1_data\n",
        "score3 = my_net(train_data3,test_data3)\n",
        "\n",
        "my_score = np.mean([score1,score2,score3])\n",
        "\n",
        "#Get the average validation score of the nerual network built using Keras.\n",
        "score4 = keras_net(train_data1,test_data1)\n",
        "score5 = keras_net(train_data2,test_data2)\n",
        "score6 = keras_net(train_data3,test_data3)\n",
        "\n",
        "keras_score = np.mean([score4,score5,score6])\n",
        "\n",
        "#Output\n",
        "print('My Test MSE: ' + str(my_score) + '\\n' + 'Keras Test MSE: ' + str(keras_score))"
      ],
      "execution_count": 36,
      "outputs": [
        {
          "output_type": "stream",
          "text": [
            "Training MSE:  0.041537139544545715\n",
            "Training MSE:  0.03766225511143457\n",
            "Training MSE:  0.015697392474142757\n",
            "Minimum Training mse:  12.545038223266602\n",
            "WARNING:tensorflow:11 out of the last 11 calls to <function Model.make_predict_function.<locals>.predict_function at 0x7f07ecf9aea0> triggered tf.function retracing. Tracing is expensive and the excessive number of tracings could be due to (1) creating @tf.function repeatedly in a loop, (2) passing tensors with different shapes, (3) passing Python objects instead of tensors. For (1), please define your @tf.function outside of the loop. For (2), @tf.function has experimental_relax_shapes=True option that relaxes argument shapes that can avoid unnecessary retracing. For (3), please refer to https://www.tensorflow.org/tutorials/customization/performance#python_or_tensor_args and https://www.tensorflow.org/api_docs/python/tf/function for  more details.\n",
            "Minimum Training mse:  12.55356502532959\n",
            "WARNING:tensorflow:11 out of the last 11 calls to <function Model.make_predict_function.<locals>.predict_function at 0x7f07f0299bf8> triggered tf.function retracing. Tracing is expensive and the excessive number of tracings could be due to (1) creating @tf.function repeatedly in a loop, (2) passing tensors with different shapes, (3) passing Python objects instead of tensors. For (1), please define your @tf.function outside of the loop. For (2), @tf.function has experimental_relax_shapes=True option that relaxes argument shapes that can avoid unnecessary retracing. For (3), please refer to https://www.tensorflow.org/tutorials/customization/performance#python_or_tensor_args and https://www.tensorflow.org/api_docs/python/tf/function for  more details.\n",
            "Minimum Training mse:  13.202887535095215\n",
            "WARNING:tensorflow:11 out of the last 11 calls to <function Model.make_predict_function.<locals>.predict_function at 0x7f07ef17e950> triggered tf.function retracing. Tracing is expensive and the excessive number of tracings could be due to (1) creating @tf.function repeatedly in a loop, (2) passing tensors with different shapes, (3) passing Python objects instead of tensors. For (1), please define your @tf.function outside of the loop. For (2), @tf.function has experimental_relax_shapes=True option that relaxes argument shapes that can avoid unnecessary retracing. For (3), please refer to https://www.tensorflow.org/tutorials/customization/performance#python_or_tensor_args and https://www.tensorflow.org/api_docs/python/tf/function for  more details.\n",
            "My Test MSE: 0.02900890566041538\n",
            "Keras Test MSE: 0.7225333333333332\n"
          ],
          "name": "stdout"
        }
      ]
    }
  ]
}